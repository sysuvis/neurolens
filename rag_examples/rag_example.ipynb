{
 "cells": [
  {
   "cell_type": "code",
   "execution_count": 1,
   "metadata": {},
   "outputs": [
    {
     "name": "stdout",
     "output_type": "stream",
     "text": [
      "LLM is explicitly disabled. Using MockLLM.\n"
     ]
    }
   ],
   "source": [
    "from langchain_community.embeddings import HuggingFaceEmbeddings\n",
    "from llama_index import StorageContext, load_index_from_storage\n",
    "from llama_index import ServiceContext, set_global_service_context, VectorStoreIndex, SimpleDirectoryReader\n",
    "from llama_index import (\n",
    "    SimpleDirectoryReader,\n",
    "    VectorStoreIndex,\n",
    "    ServiceContext,\n",
    ")\n",
    "\n",
    "embed_model = HuggingFaceEmbeddings(\n",
    "    model_name=\"sentence-transformers/all-mpnet-base-v2\"\n",
    ")\n",
    "\n",
    "service_context = ServiceContext.from_defaults(embed_model=embed_model,llm=None)\n",
    "\n",
    "# optionally set a global service context\n",
    "set_global_service_context(service_context)\n"
   ]
  },
  {
   "cell_type": "markdown",
   "metadata": {},
   "source": [
    "Embedding data to chunks vectors for querying"
   ]
  },
  {
   "cell_type": "code",
   "execution_count": null,
   "metadata": {},
   "outputs": [],
   "source": [
    "documents = SimpleDirectoryReader(\"./rag_examples/data_source\").load_data()\n",
    "index = VectorStoreIndex.from_documents(documents)\n",
    "index.storage_context.persist(persist_dir=\"./rag_examples/storage\")"
   ]
  },
  {
   "cell_type": "markdown",
   "metadata": {},
   "source": [
    "Query from storage "
   ]
  },
  {
   "cell_type": "code",
   "execution_count": 2,
   "metadata": {},
   "outputs": [
    {
     "name": "stdout",
     "output_type": "stream",
     "text": [
      "Context information is below.\n",
      "---------------------\n",
      "page_label: 365\n",
      "file_path: RAG_examples\\data_source\\11.pdf\n",
      "\n",
      "tural MRI (sMRI) and diffusion tensor imaging (DTI—\n",
      "described below).32They found prominent cortical thin-\n",
      "ning across the parietal lobe, superior medial frontal lobe,cingulate gyrus, prefrontal cortex, and occipital cortex.The rate of thinning was greatest in the youngest subjects,after which the rate slowed down.\n",
      "Diffusion-weighted imagingDiffusion-weighted imaging (DWI) is a variant of MRI\n",
      "scanning, which allows us to visualize, at a gross level, therate of diffusion of water along axons. It can thereforebe used to visualize axonal pathways. The MR signal is\n",
      "reduced when water is diffusing,\n",
      "33and it is possible to\n",
      "design an MRI protocol whose signals are depleted bywater diffusing in a particular direction (a diffusion gra-dient image). By measuring diffusion in a large set of dif-ferent directions (at least 6, but often as many as 30 to256 directions), we can identify the primary directionsof water diffusion in each voxel in the brain. Diffusion tensor imaging (DTI) models water diffusionat each voxel as an ellipsoid or “tensor,” after whichtractography may be used to follow and reconstruct themajor white matter fiber bundles. HARDI is similar to\n",
      "365Neuroimaging of brain development—a review - Dennis and Thompson Dialogues in Clinical Neuroscience - Vol 15 .No. 3 .2013\n",
      "Supplementary Figure 1. Gray matter maturation between ages 7-15. Tissue growth maps modeled by linear regression, for all subjects and males\n",
      "and females separately. \n",
      "Reproduced from ref 31: Hua X, Leow AD, Levitt JG, Caplan R, Thompson PM, Toga AW. Detecting brain growth patterns in normal ch il-\n",
      "dren using tensor-based morphometry. Hum Brain Mapp . 2009;30:209–219. Copyright © Wiley-Liss 2009\n",
      "RAge 7 Age 9\n",
      "-5% -4% -3% -2% -1% 0 1% 2% 3% 4% 5%Female Male GeneralAge 11 Age 13 Age 15\n",
      "L\n",
      "\n",
      "page_label: 11\n",
      "file_path: RAG_examples\\data_source\\6.pdf\n",
      "\n",
      "C., Kim, J.,\n",
      "Pearlson, G. D., and Mori, S.(2006). DtiStudio: resource pro-gram for diffusion tensor compu-\n",
      "tation and ﬁber bundle tracking.\n",
      "Comput. Methods Programs Biomed.81, 106–116.\n",
      "Johansen-Berg, H., and Behrens,\n",
      "T. E. J. (2009). Diffusion MRI:From Quantitative Measurement to\n",
      "In-Vivo Neuroanatomy. London:\n",
      "Academic Press.\n",
      "Jones, D. K. (2004). The effect of gradi-\n",
      "ent sampling schemes on measuresderived from diffusion tensor MRI:a Monte Carlo study. Magn. Reson.\n",
      "Med. 51, 807–815.\n",
      "Jones, D. K. (2008). Studying connec-\n",
      "tions in the living human brain with\n",
      "diffusion MRI. Cortex 44, 936–952.\n",
      "Jones, D. K. (2010a). Challenges and\n",
      "limitations of quantifying brainconnectivity in vivo with diffusion\n",
      "MRI. Imaging Med. 2, 341–355.\n",
      "Jones, D. K. (2010b). Diffusion MRI:\n",
      "Theory, Methods, and Applications.\n",
      "New Y ork, NY: Oxford University\n",
      "Press.\n",
      "Jones, D. K. (2010c). Precision and\n",
      "accuracy in diffusion tensor mag-netic resonance imaging. Top. Magn.\n",
      "Reson. Imaging 21, 87–99.\n",
      "Jones, D. K., and Cercignani, M. (2010).\n",
      "Twenty-ﬁve pitfalls in the analysis of\n",
      "diffusion MRI data. NMR Biomed.\n",
      "23, 803–820.\n",
      "Jones, D. K., Grifﬁn, L. D., Alexander,\n",
      "D. C., Catani, M., Horsﬁeld, M.A., Howard, R., et al. (2002).Spatial normalization and averagingof diffusion tensor MRI data sets.Neuroimage 17, 592–617.\n",
      "Jones, D. K., Horsﬁeld, M. A., and\n",
      "Simmons, A. (1999a). Optimalstrategies for measuring diffusionin anisotropic systems by magneticresonance imaging. Magn. Reson.\n",
      "Med. 42, 515–525.\n",
      "Jones, D. K., Knosche, T. R., and\n",
      "Turner, R. (2012). White matter\n",
      "integrity, ﬁber count, and other\n",
      "fallacies: the do’s and don’ts ofdiffusion MRI. Neuroimage .d o i :\n",
      "10.1016/j.neuroimage.2012.06.081.[Epub ahead of print].\n",
      "Jones, D. K., Simmons, A., Williams,\n",
      "S. C., and Horsﬁeld, M. A. (1999b).\n",
      "Non-invasive assessment of axonal\n",
      "ﬁber connectivity in the humanbrain via diffusion tensor MRI.Magn. Reson. Med. 42, 37–41.\n",
      "Kaur, P ., Senthil Kumaran, S., Tripathi,\n",
      "R. P ., Khushu, S., and Kaushik, S.(2007). Protocol error artifacts inMRI: sources and remedies revis-\n",
      "ited. Radiography 13, 291–306.\n",
      "Kennedy, S. D., and Zhong, J. (2004).\n",
      "Diffusion measurements free ofmotion artifacts using intermolec-ular dipole-dipole interactions.Magn. Reson. Med. 52, 1–6.\n",
      "Kindlmann, G. (2006). “Superquadric\n",
      "tensor glyphs,” in Proceeding of\n",
      "The Joint Eurographics – IEEE\n",
      "TCVG Symposium on Visualization(Konstanz), 147–154.\n",
      "Kindlmann, G., and Westin, C.\n",
      "F. (2006). Diffusion tensor\n",
      "www.frontiersin.org M a r c h2 0 1 3|V o l u m e7|A r t i c l e3 1 |11\n",
      "---------------------\n",
      "Given the context information and not prior knowledge, answer the query.\n",
      "Query: What is diffusion tensor imaging? \n",
      "Answer: \n"
     ]
    }
   ],
   "source": [
    "\n",
    "storage_context = StorageContext.from_defaults(persist_dir=\"storage\")\n",
    "index = load_index_from_storage(storage_context)\n",
    "query_engine = index.as_query_engine()\n",
    "\n",
    "response=query_engine.query(\"What is diffusion tensor imaging? \")\n",
    "print(response)"
   ]
  }
 ],
 "metadata": {
  "kernelspec": {
   "display_name": "Python 3.9.13 ('base')",
   "language": "python",
   "name": "python3"
  },
  "language_info": {
   "codemirror_mode": {
    "name": "ipython",
    "version": 3
   },
   "file_extension": ".py",
   "mimetype": "text/x-python",
   "name": "python",
   "nbconvert_exporter": "python",
   "pygments_lexer": "ipython3",
   "version": "3.9.13"
  },
  "orig_nbformat": 4,
  "vscode": {
   "interpreter": {
    "hash": "d7bca6c61252fe1715341e925e38c940ba31bf1bc46c437c20b107b9482011ac"
   }
  }
 },
 "nbformat": 4,
 "nbformat_minor": 2
}
